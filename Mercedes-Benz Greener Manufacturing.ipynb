{
 "cells": [
  {
   "cell_type": "code",
   "execution_count": 1,
   "metadata": {},
   "outputs": [],
   "source": [
    "import numpy as np\n",
    "import pandas as pd\n",
    "from sklearn.decomposition import PCA\n",
    "import matplotlib.pyplot as plt\n",
    "import seaborn as sns\n",
    "sns.set()\n",
    "%matplotlib inline \n",
    "plt.style.use('ggplot')"
   ]
  },
  {
   "cell_type": "code",
   "execution_count": 2,
   "metadata": {},
   "outputs": [],
   "source": [
    "df_train = pd.read_csv('train.csv')"
   ]
  },
  {
   "cell_type": "code",
   "execution_count": 3,
   "metadata": {},
   "outputs": [
    {
     "name": "stdout",
     "output_type": "stream",
     "text": [
      "Size of training set: 4209 rows and 378 columns\n"
     ]
    }
   ],
   "source": [
    "print('Size of training set: {} rows and {} columns'.format(*df_train.shape))"
   ]
  },
  {
   "cell_type": "code",
   "execution_count": 4,
   "metadata": {},
   "outputs": [
    {
     "data": {
      "text/html": [
       "<div>\n",
       "<style scoped>\n",
       "    .dataframe tbody tr th:only-of-type {\n",
       "        vertical-align: middle;\n",
       "    }\n",
       "\n",
       "    .dataframe tbody tr th {\n",
       "        vertical-align: top;\n",
       "    }\n",
       "\n",
       "    .dataframe thead th {\n",
       "        text-align: right;\n",
       "    }\n",
       "</style>\n",
       "<table border=\"1\" class=\"dataframe\">\n",
       "  <thead>\n",
       "    <tr style=\"text-align: right;\">\n",
       "      <th></th>\n",
       "      <th>ID</th>\n",
       "      <th>y</th>\n",
       "      <th>X0</th>\n",
       "      <th>X1</th>\n",
       "      <th>X2</th>\n",
       "      <th>X3</th>\n",
       "      <th>X4</th>\n",
       "      <th>X5</th>\n",
       "      <th>X6</th>\n",
       "      <th>X8</th>\n",
       "      <th>...</th>\n",
       "      <th>X375</th>\n",
       "      <th>X376</th>\n",
       "      <th>X377</th>\n",
       "      <th>X378</th>\n",
       "      <th>X379</th>\n",
       "      <th>X380</th>\n",
       "      <th>X382</th>\n",
       "      <th>X383</th>\n",
       "      <th>X384</th>\n",
       "      <th>X385</th>\n",
       "    </tr>\n",
       "  </thead>\n",
       "  <tbody>\n",
       "    <tr>\n",
       "      <td>0</td>\n",
       "      <td>0</td>\n",
       "      <td>130.81</td>\n",
       "      <td>k</td>\n",
       "      <td>v</td>\n",
       "      <td>at</td>\n",
       "      <td>a</td>\n",
       "      <td>d</td>\n",
       "      <td>u</td>\n",
       "      <td>j</td>\n",
       "      <td>o</td>\n",
       "      <td>...</td>\n",
       "      <td>0</td>\n",
       "      <td>0</td>\n",
       "      <td>1</td>\n",
       "      <td>0</td>\n",
       "      <td>0</td>\n",
       "      <td>0</td>\n",
       "      <td>0</td>\n",
       "      <td>0</td>\n",
       "      <td>0</td>\n",
       "      <td>0</td>\n",
       "    </tr>\n",
       "    <tr>\n",
       "      <td>1</td>\n",
       "      <td>6</td>\n",
       "      <td>88.53</td>\n",
       "      <td>k</td>\n",
       "      <td>t</td>\n",
       "      <td>av</td>\n",
       "      <td>e</td>\n",
       "      <td>d</td>\n",
       "      <td>y</td>\n",
       "      <td>l</td>\n",
       "      <td>o</td>\n",
       "      <td>...</td>\n",
       "      <td>1</td>\n",
       "      <td>0</td>\n",
       "      <td>0</td>\n",
       "      <td>0</td>\n",
       "      <td>0</td>\n",
       "      <td>0</td>\n",
       "      <td>0</td>\n",
       "      <td>0</td>\n",
       "      <td>0</td>\n",
       "      <td>0</td>\n",
       "    </tr>\n",
       "    <tr>\n",
       "      <td>2</td>\n",
       "      <td>7</td>\n",
       "      <td>76.26</td>\n",
       "      <td>az</td>\n",
       "      <td>w</td>\n",
       "      <td>n</td>\n",
       "      <td>c</td>\n",
       "      <td>d</td>\n",
       "      <td>x</td>\n",
       "      <td>j</td>\n",
       "      <td>x</td>\n",
       "      <td>...</td>\n",
       "      <td>0</td>\n",
       "      <td>0</td>\n",
       "      <td>0</td>\n",
       "      <td>0</td>\n",
       "      <td>0</td>\n",
       "      <td>0</td>\n",
       "      <td>1</td>\n",
       "      <td>0</td>\n",
       "      <td>0</td>\n",
       "      <td>0</td>\n",
       "    </tr>\n",
       "    <tr>\n",
       "      <td>3</td>\n",
       "      <td>9</td>\n",
       "      <td>80.62</td>\n",
       "      <td>az</td>\n",
       "      <td>t</td>\n",
       "      <td>n</td>\n",
       "      <td>f</td>\n",
       "      <td>d</td>\n",
       "      <td>x</td>\n",
       "      <td>l</td>\n",
       "      <td>e</td>\n",
       "      <td>...</td>\n",
       "      <td>0</td>\n",
       "      <td>0</td>\n",
       "      <td>0</td>\n",
       "      <td>0</td>\n",
       "      <td>0</td>\n",
       "      <td>0</td>\n",
       "      <td>0</td>\n",
       "      <td>0</td>\n",
       "      <td>0</td>\n",
       "      <td>0</td>\n",
       "    </tr>\n",
       "    <tr>\n",
       "      <td>4</td>\n",
       "      <td>13</td>\n",
       "      <td>78.02</td>\n",
       "      <td>az</td>\n",
       "      <td>v</td>\n",
       "      <td>n</td>\n",
       "      <td>f</td>\n",
       "      <td>d</td>\n",
       "      <td>h</td>\n",
       "      <td>d</td>\n",
       "      <td>n</td>\n",
       "      <td>...</td>\n",
       "      <td>0</td>\n",
       "      <td>0</td>\n",
       "      <td>0</td>\n",
       "      <td>0</td>\n",
       "      <td>0</td>\n",
       "      <td>0</td>\n",
       "      <td>0</td>\n",
       "      <td>0</td>\n",
       "      <td>0</td>\n",
       "      <td>0</td>\n",
       "    </tr>\n",
       "  </tbody>\n",
       "</table>\n",
       "<p>5 rows × 378 columns</p>\n",
       "</div>"
      ],
      "text/plain": [
       "   ID       y  X0 X1  X2 X3 X4 X5 X6 X8  ...  X375  X376  X377  X378  X379  \\\n",
       "0   0  130.81   k  v  at  a  d  u  j  o  ...     0     0     1     0     0   \n",
       "1   6   88.53   k  t  av  e  d  y  l  o  ...     1     0     0     0     0   \n",
       "2   7   76.26  az  w   n  c  d  x  j  x  ...     0     0     0     0     0   \n",
       "3   9   80.62  az  t   n  f  d  x  l  e  ...     0     0     0     0     0   \n",
       "4  13   78.02  az  v   n  f  d  h  d  n  ...     0     0     0     0     0   \n",
       "\n",
       "   X380  X382  X383  X384  X385  \n",
       "0     0     0     0     0     0  \n",
       "1     0     0     0     0     0  \n",
       "2     0     1     0     0     0  \n",
       "3     0     0     0     0     0  \n",
       "4     0     0     0     0     0  \n",
       "\n",
       "[5 rows x 378 columns]"
      ]
     },
     "execution_count": 4,
     "metadata": {},
     "output_type": "execute_result"
    }
   ],
   "source": [
    "df_train.head()"
   ]
  },
  {
   "cell_type": "code",
   "execution_count": 5,
   "metadata": {},
   "outputs": [],
   "source": [
    "y_train = df_train['y'].values"
   ]
  },
  {
   "cell_type": "code",
   "execution_count": 6,
   "metadata": {},
   "outputs": [
    {
     "name": "stdout",
     "output_type": "stream",
     "text": [
      "min: 72.11 max: 265.32 mean: 100.66931812782134 std: 12.6778749695168\n",
      "Count of values above 180: 1\n"
     ]
    },
    {
     "data": {
      "image/png": "[encoded data removed]",
      "text/plain": [
       "<Figure size 1080x360 with 1 Axes>"
      ]
     },
     "metadata": {
      "needs_background": "light"
     },
     "output_type": "display_data"
    }
   ],
   "source": [
    "plt.figure(figsize=(15,5))\n",
    "plt.hist(y_train, bins=20)\n",
    "plt.xlabel('Target value in seconds')\n",
    "plt.ylabel('Occurences')\n",
    "plt.title('Distribution of the target value')\n",
    "\n",
    "print('min: {} max: {} mean: {} std: {}'.format(min(y_train), max(y_train), y_train.mean(), y_train.std()))\n",
    "print('Count of values above 180: {}'.format(np.sum(y_train > 200)))"
   ]
  },
  {
   "cell_type": "code",
   "execution_count": 7,
   "metadata": {},
   "outputs": [
    {
     "data": {
      "image/png": "[encoded data removed]",
      "text/plain": [
       "<Figure size 1080x360 with 1 Axes>"
      ]
     },
     "metadata": {
      "needs_background": "light"
     },
     "output_type": "display_data"
    },
    {
     "data": {
      "text/plain": [
       "Text(0.5, 1.0, 'Change in target value over the dataset(first 100 samples)')"
      ]
     },
     "execution_count": 7,
     "metadata": {},
     "output_type": "execute_result"
    },
    {
     "data": {
      "image/png": "[encoded data removed]",
      "text/plain": [
       "<Figure size 1080x360 with 1 Axes>"
      ]
     },
     "metadata": {
      "needs_background": "light"
     },
     "output_type": "display_data"
    }
   ],
   "source": [
    "plt.figure(figsize=(15, 5))\n",
    "plt.plot(y_train)\n",
    "plt.xlabel('Row ID')\n",
    "plt.ylabel('Target value')\n",
    "plt.title('Change in target value over the dataset')\n",
    "plt.show()\n",
    " \n",
    "plt.figure(figsize=(15, 5))\n",
    "plt.plot(y_train[:100])\n",
    "plt.xlabel('Row ID')\n",
    "plt.ylabel('Target value')\n",
    "plt.title('Change in target value over the dataset(first 100 samples)')"
   ]
  },
  {
   "cell_type": "code",
   "execution_count": 8,
   "metadata": {},
   "outputs": [
    {
     "name": "stdout",
     "output_type": "stream",
     "text": [
      "Number of features: 376\n",
      "Feature types:\n"
     ]
    },
    {
     "data": {
      "text/plain": [
       "int64     368\n",
       "object      8\n",
       "dtype: int64"
      ]
     },
     "execution_count": 8,
     "metadata": {},
     "output_type": "execute_result"
    }
   ],
   "source": [
    "cols = [c for c in df_train.columns if 'X' in c]\n",
    "print('Number of features: {}'.format(len(cols)))\n",
    "\n",
    "print('Feature types:')\n",
    "df_train[cols].dtypes.value_counts()"
   ]
  },
  {
   "cell_type": "code",
   "execution_count": 9,
   "metadata": {},
   "outputs": [
    {
     "name": "stdout",
     "output_type": "stream",
     "text": [
      "Constant features: 12 Binary features: 356 Categorical features: 8\n",
      "\n",
      "Constant features: ['X11', 'X93', 'X107', 'X233', 'X235', 'X268', 'X289', 'X290', 'X293', 'X297', 'X330', 'X347']\n",
      "Categorical features: ['X0', 'X1', 'X2', 'X3', 'X4', 'X5', 'X6', 'X8']\n"
     ]
    }
   ],
   "source": [
    "counts = [[], [], []]\n",
    "for c in cols:\n",
    "    typ = df_train[c].dtype\n",
    "    uniq = len(np.unique(df_train[c]))\n",
    "    if uniq == 1:\n",
    "        counts[0].append(c)\n",
    "    elif uniq == 2 and typ == np.int64:\n",
    "        counts[1].append(c)\n",
    "    else:\n",
    "        counts[2].append(c)\n",
    "\n",
    "print('Constant features: {} Binary features: {} Categorical features: {}\\n'\n",
    "      .format(*[len(c) for c in counts]))\n",
    "print('Constant features:', counts[0])\n",
    "print('Categorical features:', counts[2])"
   ]
  },
  {
   "cell_type": "code",
   "execution_count": 10,
   "metadata": {},
   "outputs": [],
   "source": [
    "df_test = pd.read_csv('test.csv')"
   ]
  },
  {
   "cell_type": "code",
   "execution_count": 11,
   "metadata": {},
   "outputs": [],
   "source": [
    "usable_columns = list(set(df_train.columns) - set(['ID', 'y']))\n",
    "y_train = df_train['y'].values\n",
    "id_test = df_test['ID'].values\n",
    "\n",
    "x_train = df_train[usable_columns]\n",
    "x_test = df_test[usable_columns]"
   ]
  },
  {
   "cell_type": "code",
   "execution_count": 12,
   "metadata": {},
   "outputs": [
    {
     "name": "stdout",
     "output_type": "stream",
     "text": [
      "There are no missing values in the dataframe\n",
      "There are no missing values in the dataframe\n"
     ]
    }
   ],
   "source": [
    "def check_missing_values(df):\n",
    "    if df.isnull().any().any():\n",
    "        print(\"There are missing values in the dataframe\")\n",
    "    else:\n",
    "        print(\"There are no missing values in the dataframe\")\n",
    "check_missing_values(x_train)\n",
    "check_missing_values(x_test)"
   ]
  },
  {
   "cell_type": "code",
   "execution_count": 13,
   "metadata": {},
   "outputs": [
    {
     "name": "stderr",
     "output_type": "stream",
     "text": [
      "C:\\Users\\Tarif\\Anaconda3\\lib\\site-packages\\ipykernel_launcher.py:9: SettingWithCopyWarning: \n",
      "A value is trying to be set on a copy of a slice from a DataFrame.\n",
      "Try using .loc[row_indexer,col_indexer] = value instead\n",
      "\n",
      "See the caveats in the documentation: http://pandas.pydata.org/pandas-docs/stable/user_guide/indexing.html#returning-a-view-versus-a-copy\n",
      "  if __name__ == '__main__':\n",
      "C:\\Users\\Tarif\\Anaconda3\\lib\\site-packages\\ipykernel_launcher.py:10: SettingWithCopyWarning: \n",
      "A value is trying to be set on a copy of a slice from a DataFrame.\n",
      "Try using .loc[row_indexer,col_indexer] = value instead\n",
      "\n",
      "See the caveats in the documentation: http://pandas.pydata.org/pandas-docs/stable/user_guide/indexing.html#returning-a-view-versus-a-copy\n",
      "  # Remove the CWD from sys.path while we load stuff.\n"
     ]
    },
    {
     "data": {
      "text/html": [
       "<div>\n",
       "<style scoped>\n",
       "    .dataframe tbody tr th:only-of-type {\n",
       "        vertical-align: middle;\n",
       "    }\n",
       "\n",
       "    .dataframe tbody tr th {\n",
       "        vertical-align: top;\n",
       "    }\n",
       "\n",
       "    .dataframe thead th {\n",
       "        text-align: right;\n",
       "    }\n",
       "</style>\n",
       "<table border=\"1\" class=\"dataframe\">\n",
       "  <thead>\n",
       "    <tr style=\"text-align: right;\">\n",
       "      <th></th>\n",
       "      <th>X206</th>\n",
       "      <th>X240</th>\n",
       "      <th>X298</th>\n",
       "      <th>X299</th>\n",
       "      <th>X74</th>\n",
       "      <th>X286</th>\n",
       "      <th>X137</th>\n",
       "      <th>X140</th>\n",
       "      <th>X374</th>\n",
       "      <th>X127</th>\n",
       "      <th>...</th>\n",
       "      <th>X283</th>\n",
       "      <th>X47</th>\n",
       "      <th>X168</th>\n",
       "      <th>X375</th>\n",
       "      <th>X154</th>\n",
       "      <th>X300</th>\n",
       "      <th>X213</th>\n",
       "      <th>X224</th>\n",
       "      <th>X120</th>\n",
       "      <th>X49</th>\n",
       "    </tr>\n",
       "  </thead>\n",
       "  <tbody>\n",
       "    <tr>\n",
       "      <td>0</td>\n",
       "      <td>0</td>\n",
       "      <td>0</td>\n",
       "      <td>0</td>\n",
       "      <td>0</td>\n",
       "      <td>1</td>\n",
       "      <td>0</td>\n",
       "      <td>1</td>\n",
       "      <td>0</td>\n",
       "      <td>0</td>\n",
       "      <td>0</td>\n",
       "      <td>...</td>\n",
       "      <td>0</td>\n",
       "      <td>0</td>\n",
       "      <td>0</td>\n",
       "      <td>0</td>\n",
       "      <td>0</td>\n",
       "      <td>0</td>\n",
       "      <td>0</td>\n",
       "      <td>0</td>\n",
       "      <td>1</td>\n",
       "      <td>0</td>\n",
       "    </tr>\n",
       "    <tr>\n",
       "      <td>1</td>\n",
       "      <td>0</td>\n",
       "      <td>0</td>\n",
       "      <td>0</td>\n",
       "      <td>0</td>\n",
       "      <td>1</td>\n",
       "      <td>0</td>\n",
       "      <td>0</td>\n",
       "      <td>0</td>\n",
       "      <td>0</td>\n",
       "      <td>1</td>\n",
       "      <td>...</td>\n",
       "      <td>0</td>\n",
       "      <td>0</td>\n",
       "      <td>0</td>\n",
       "      <td>1</td>\n",
       "      <td>0</td>\n",
       "      <td>0</td>\n",
       "      <td>0</td>\n",
       "      <td>0</td>\n",
       "      <td>1</td>\n",
       "      <td>0</td>\n",
       "    </tr>\n",
       "    <tr>\n",
       "      <td>2</td>\n",
       "      <td>1</td>\n",
       "      <td>0</td>\n",
       "      <td>0</td>\n",
       "      <td>0</td>\n",
       "      <td>1</td>\n",
       "      <td>1</td>\n",
       "      <td>1</td>\n",
       "      <td>0</td>\n",
       "      <td>0</td>\n",
       "      <td>0</td>\n",
       "      <td>...</td>\n",
       "      <td>0</td>\n",
       "      <td>0</td>\n",
       "      <td>0</td>\n",
       "      <td>0</td>\n",
       "      <td>0</td>\n",
       "      <td>0</td>\n",
       "      <td>0</td>\n",
       "      <td>1</td>\n",
       "      <td>1</td>\n",
       "      <td>0</td>\n",
       "    </tr>\n",
       "    <tr>\n",
       "      <td>3</td>\n",
       "      <td>0</td>\n",
       "      <td>0</td>\n",
       "      <td>0</td>\n",
       "      <td>0</td>\n",
       "      <td>1</td>\n",
       "      <td>1</td>\n",
       "      <td>0</td>\n",
       "      <td>0</td>\n",
       "      <td>0</td>\n",
       "      <td>0</td>\n",
       "      <td>...</td>\n",
       "      <td>0</td>\n",
       "      <td>0</td>\n",
       "      <td>0</td>\n",
       "      <td>0</td>\n",
       "      <td>0</td>\n",
       "      <td>0</td>\n",
       "      <td>0</td>\n",
       "      <td>0</td>\n",
       "      <td>1</td>\n",
       "      <td>0</td>\n",
       "    </tr>\n",
       "    <tr>\n",
       "      <td>4</td>\n",
       "      <td>0</td>\n",
       "      <td>0</td>\n",
       "      <td>0</td>\n",
       "      <td>0</td>\n",
       "      <td>1</td>\n",
       "      <td>1</td>\n",
       "      <td>0</td>\n",
       "      <td>0</td>\n",
       "      <td>0</td>\n",
       "      <td>0</td>\n",
       "      <td>...</td>\n",
       "      <td>0</td>\n",
       "      <td>0</td>\n",
       "      <td>0</td>\n",
       "      <td>0</td>\n",
       "      <td>0</td>\n",
       "      <td>0</td>\n",
       "      <td>0</td>\n",
       "      <td>0</td>\n",
       "      <td>1</td>\n",
       "      <td>0</td>\n",
       "    </tr>\n",
       "  </tbody>\n",
       "</table>\n",
       "<p>5 rows × 376 columns</p>\n",
       "</div>"
      ],
      "text/plain": [
       "   X206  X240  X298  X299  X74  X286  X137  X140  X374  X127  ...  X283  X47  \\\n",
       "0     0     0     0     0    1     0     1     0     0     0  ...     0    0   \n",
       "1     0     0     0     0    1     0     0     0     0     1  ...     0    0   \n",
       "2     1     0     0     0    1     1     1     0     0     0  ...     0    0   \n",
       "3     0     0     0     0    1     1     0     0     0     0  ...     0    0   \n",
       "4     0     0     0     0    1     1     0     0     0     0  ...     0    0   \n",
       "\n",
       "   X168  X375  X154  X300  X213  X224  X120  X49  \n",
       "0     0     0     0     0     0     0     1    0  \n",
       "1     0     1     0     0     0     0     1    0  \n",
       "2     0     0     0     0     0     1     1    0  \n",
       "3     0     0     0     0     0     0     1    0  \n",
       "4     0     0     0     0     0     0     1    0  \n",
       "\n",
       "[5 rows x 376 columns]"
      ]
     },
     "execution_count": 13,
     "metadata": {},
     "output_type": "execute_result"
    }
   ],
   "source": [
    "for column in usable_columns:\n",
    "    cardinality = len(np.unique(x_train[column]))\n",
    "    if cardinality == 1:\n",
    "        x_train.drop(column, axis=1) # Column with only one \n",
    "        # value is useless so we drop it\n",
    "        x_test.drop(column, axis=1)\n",
    "    if cardinality > 2: # Column is categorical\n",
    "        mapper = lambda x: sum([ord(digit) for digit in x])\n",
    "        x_train[column] = x_train[column].apply(mapper)\n",
    "        x_test[column] = x_test[column].apply(mapper)\n",
    "x_train.head()"
   ]
  },
  {
   "cell_type": "code",
   "execution_count": 14,
   "metadata": {},
   "outputs": [
    {
     "name": "stdout",
     "output_type": "stream",
     "text": [
      "Feature types:\n"
     ]
    },
    {
     "data": {
      "text/plain": [
       "int64    376\n",
       "dtype: int64"
      ]
     },
     "execution_count": 14,
     "metadata": {},
     "output_type": "execute_result"
    }
   ],
   "source": [
    "print('Feature types:')\n",
    "x_train[cols].dtypes.value_counts()"
   ]
  },
  {
   "cell_type": "code",
   "execution_count": 15,
   "metadata": {},
   "outputs": [],
   "source": [
    "n_comp = 12\n",
    "pca = PCA(n_components=n_comp, random_state=420)\n",
    "pca2_results_train = pca.fit_transform(x_train)\n",
    "pca2_results_test = pca.transform(x_test)\n"
   ]
  },
  {
   "cell_type": "code",
   "execution_count": 16,
   "metadata": {},
   "outputs": [
    {
     "name": "stdout",
     "output_type": "stream",
     "text": [
      "[03:37:14] WARNING: C:/Jenkins/workspace/xgboost-win64_release_0.90/src/objective/regression_obj.cu:152: reg:linear is now deprecated in favor of reg:squarederror.\n",
      "[0]\ttrain-rmse:99.1484\tvalid-rmse:98.263\ttrain-r2:-58.353\tvalid-r2:-67.6375\n",
      "Multiple eval metrics have been passed: 'valid-r2' will be used for early stopping.\n",
      "\n",
      "Will train until valid-r2 hasn't improved in 50 rounds.\n",
      "[10]\ttrain-rmse:81.2765\tvalid-rmse:80.3643\ttrain-r2:-38.8843\tvalid-r2:-44.9101\n",
      "[20]\ttrain-rmse:66.7161\tvalid-rmse:65.7733\ttrain-r2:-25.874\tvalid-r2:-29.7526\n",
      "[30]\ttrain-rmse:54.8692\tvalid-rmse:53.8912\ttrain-r2:-17.1772\tvalid-r2:-19.6451\n",
      "[40]\ttrain-rmse:45.2456\tvalid-rmse:44.2223\ttrain-r2:-11.3602\tvalid-r2:-12.9016\n",
      "[50]\ttrain-rmse:37.4474\tvalid-rmse:36.3776\ttrain-r2:-7.46672\tvalid-r2:-8.40697\n",
      "[60]\ttrain-rmse:31.151\tvalid-rmse:30.0177\ttrain-r2:-4.85891\tvalid-r2:-5.40526\n",
      "[70]\ttrain-rmse:26.0877\tvalid-rmse:24.9084\ttrain-r2:-3.10906\tvalid-r2:-3.41037\n",
      "[80]\ttrain-rmse:22.049\tvalid-rmse:20.8255\ttrain-r2:-1.93527\tvalid-r2:-2.08301\n",
      "[90]\ttrain-rmse:18.8473\tvalid-rmse:17.5952\ttrain-r2:-1.14472\tvalid-r2:-1.20075\n",
      "[100]\ttrain-rmse:16.3366\tvalid-rmse:15.0766\ttrain-r2:-0.611375\tvalid-r2:-0.615812\n",
      "[110]\ttrain-rmse:14.3976\tvalid-rmse:13.1459\ttrain-r2:-0.251552\tvalid-r2:-0.228456\n",
      "[120]\ttrain-rmse:12.9229\tvalid-rmse:11.685\ttrain-r2:-0.008299\tvalid-r2:0.029408\n",
      "[130]\ttrain-rmse:11.815\tvalid-rmse:10.6147\ttrain-r2:0.157178\tvalid-r2:0.199069\n",
      "[140]\ttrain-rmse:10.9876\tvalid-rmse:9.85329\ttrain-r2:0.271083\tvalid-r2:0.309849\n",
      "[150]\ttrain-rmse:10.3807\tvalid-rmse:9.31657\ttrain-r2:0.34938\tvalid-r2:0.382988\n",
      "[160]\ttrain-rmse:9.93318\tvalid-rmse:8.95636\ttrain-r2:0.404271\tvalid-r2:0.429776\n",
      "[170]\ttrain-rmse:9.59853\tvalid-rmse:8.71058\ttrain-r2:0.443735\tvalid-r2:0.460643\n",
      "[180]\ttrain-rmse:9.35234\tvalid-rmse:8.55309\ttrain-r2:0.471905\tvalid-r2:0.47997\n",
      "[190]\ttrain-rmse:9.16652\tvalid-rmse:8.4484\ttrain-r2:0.492681\tvalid-r2:0.492623\n",
      "[200]\ttrain-rmse:9.02006\tvalid-rmse:8.38323\ttrain-r2:0.508764\tvalid-r2:0.50042\n",
      "[210]\ttrain-rmse:8.90887\tvalid-rmse:8.34821\ttrain-r2:0.5208\tvalid-r2:0.504585\n",
      "[220]\ttrain-rmse:8.82979\tvalid-rmse:8.3223\ttrain-r2:0.529269\tvalid-r2:0.507656\n",
      "[230]\ttrain-rmse:8.76918\tvalid-rmse:8.3093\ttrain-r2:0.53571\tvalid-r2:0.509193\n",
      "[240]\ttrain-rmse:8.72008\tvalid-rmse:8.3004\ttrain-r2:0.540895\tvalid-r2:0.510244\n",
      "[250]\ttrain-rmse:8.67858\tvalid-rmse:8.29515\ttrain-r2:0.545255\tvalid-r2:0.510862\n",
      "[260]\ttrain-rmse:8.63878\tvalid-rmse:8.2928\ttrain-r2:0.549415\tvalid-r2:0.51114\n",
      "[270]\ttrain-rmse:8.60548\tvalid-rmse:8.29098\ttrain-r2:0.552882\tvalid-r2:0.511355\n",
      "[280]\ttrain-rmse:8.57153\tvalid-rmse:8.29202\ttrain-r2:0.556403\tvalid-r2:0.511232\n",
      "[290]\ttrain-rmse:8.54815\tvalid-rmse:8.28917\ttrain-r2:0.55882\tvalid-r2:0.511568\n",
      "[300]\ttrain-rmse:8.51961\tvalid-rmse:8.288\ttrain-r2:0.561761\tvalid-r2:0.511706\n",
      "[310]\ttrain-rmse:8.49598\tvalid-rmse:8.28682\ttrain-r2:0.564189\tvalid-r2:0.511845\n",
      "[320]\ttrain-rmse:8.46555\tvalid-rmse:8.28365\ttrain-r2:0.567305\tvalid-r2:0.512219\n",
      "[330]\ttrain-rmse:8.43853\tvalid-rmse:8.28331\ttrain-r2:0.570063\tvalid-r2:0.512258\n",
      "[340]\ttrain-rmse:8.41711\tvalid-rmse:8.28024\ttrain-r2:0.572243\tvalid-r2:0.51262\n",
      "[350]\ttrain-rmse:8.38459\tvalid-rmse:8.27968\ttrain-r2:0.575541\tvalid-r2:0.512686\n",
      "[360]\ttrain-rmse:8.35913\tvalid-rmse:8.27727\ttrain-r2:0.578115\tvalid-r2:0.512969\n",
      "[370]\ttrain-rmse:8.33554\tvalid-rmse:8.27232\ttrain-r2:0.580494\tvalid-r2:0.513551\n",
      "[380]\ttrain-rmse:8.30868\tvalid-rmse:8.27086\ttrain-r2:0.583192\tvalid-r2:0.513723\n",
      "[390]\ttrain-rmse:8.28525\tvalid-rmse:8.27031\ttrain-r2:0.58554\tvalid-r2:0.513789\n",
      "[400]\ttrain-rmse:8.265\tvalid-rmse:8.26982\ttrain-r2:0.587564\tvalid-r2:0.513846\n",
      "[410]\ttrain-rmse:8.24286\tvalid-rmse:8.26903\ttrain-r2:0.58977\tvalid-r2:0.513939\n",
      "[420]\ttrain-rmse:8.21852\tvalid-rmse:8.26912\ttrain-r2:0.59219\tvalid-r2:0.513928\n",
      "[430]\ttrain-rmse:8.19042\tvalid-rmse:8.26783\ttrain-r2:0.594973\tvalid-r2:0.51408\n",
      "[440]\ttrain-rmse:8.1682\tvalid-rmse:8.26372\ttrain-r2:0.597168\tvalid-r2:0.514563\n",
      "[450]\ttrain-rmse:8.14374\tvalid-rmse:8.26434\ttrain-r2:0.599577\tvalid-r2:0.51449\n",
      "[460]\ttrain-rmse:8.11825\tvalid-rmse:8.2608\ttrain-r2:0.60208\tvalid-r2:0.514906\n",
      "[470]\ttrain-rmse:8.09629\tvalid-rmse:8.26065\ttrain-r2:0.60423\tvalid-r2:0.514923\n",
      "[480]\ttrain-rmse:8.07311\tvalid-rmse:8.26245\ttrain-r2:0.606493\tvalid-r2:0.514712\n",
      "[490]\ttrain-rmse:8.0522\tvalid-rmse:8.26239\ttrain-r2:0.608528\tvalid-r2:0.514719\n",
      "[500]\ttrain-rmse:8.0281\tvalid-rmse:8.26276\ttrain-r2:0.610868\tvalid-r2:0.514676\n",
      "Stopping. Best iteration:\n",
      "[456]\ttrain-rmse:8.12817\tvalid-rmse:8.25984\ttrain-r2:0.601106\tvalid-r2:0.515019\n",
      "\n"
     ]
    }
   ],
   "source": [
    "import xgboost as xgb\n",
    "from sklearn.metrics import r2_score\n",
    "from sklearn.model_selection import train_test_split\n",
    "\n",
    "x_train, x_valid, y_train, y_valid = train_test_split(pca2_results_train,y_train, test_size=0.2, random_state=4242)\n",
    "\n",
    "d_train = xgb.DMatrix(x_train, label=y_train)\n",
    "d_valid = xgb.DMatrix(x_valid, label=y_valid)\n",
    "d_test = xgb.DMatrix(pca2_results_test)\n",
    "\n",
    "params = {}\n",
    "params['objective'] = 'reg:linear'\n",
    "params['eta'] = 0.02\n",
    "params['max_depth'] = 4\n",
    "\n",
    "def xgb_r2_score(preds, dtrain):\n",
    "    labels = dtrain.get_label()\n",
    "    return 'r2', r2_score(labels, preds)\n",
    "\n",
    "watchlist = [(d_train, 'train'), (d_valid, 'valid')]\n",
    "\n",
    "clf = xgb.train(params, d_train,1000, watchlist, early_stopping_rounds=50, feval=xgb_r2_score, maximize=True, verbose_eval=10)\n"
   ]
  },
  {
   "cell_type": "code",
   "execution_count": 17,
   "metadata": {},
   "outputs": [
    {
     "data": {
      "text/html": [
       "<div>\n",
       "<style scoped>\n",
       "    .dataframe tbody tr th:only-of-type {\n",
       "        vertical-align: middle;\n",
       "    }\n",
       "\n",
       "    .dataframe tbody tr th {\n",
       "        vertical-align: top;\n",
       "    }\n",
       "\n",
       "    .dataframe thead th {\n",
       "        text-align: right;\n",
       "    }\n",
       "</style>\n",
       "<table border=\"1\" class=\"dataframe\">\n",
       "  <thead>\n",
       "    <tr style=\"text-align: right;\">\n",
       "      <th></th>\n",
       "      <th>ID</th>\n",
       "      <th>y</th>\n",
       "    </tr>\n",
       "  </thead>\n",
       "  <tbody>\n",
       "    <tr>\n",
       "      <td>0</td>\n",
       "      <td>1</td>\n",
       "      <td>82.757614</td>\n",
       "    </tr>\n",
       "    <tr>\n",
       "      <td>1</td>\n",
       "      <td>2</td>\n",
       "      <td>97.580933</td>\n",
       "    </tr>\n",
       "    <tr>\n",
       "      <td>2</td>\n",
       "      <td>3</td>\n",
       "      <td>83.186325</td>\n",
       "    </tr>\n",
       "    <tr>\n",
       "      <td>3</td>\n",
       "      <td>4</td>\n",
       "      <td>76.920631</td>\n",
       "    </tr>\n",
       "    <tr>\n",
       "      <td>4</td>\n",
       "      <td>5</td>\n",
       "      <td>112.591087</td>\n",
       "    </tr>\n",
       "  </tbody>\n",
       "</table>\n",
       "</div>"
      ],
      "text/plain": [
       "   ID           y\n",
       "0   1   82.757614\n",
       "1   2   97.580933\n",
       "2   3   83.186325\n",
       "3   4   76.920631\n",
       "4   5  112.591087"
      ]
     },
     "execution_count": 17,
     "metadata": {},
     "output_type": "execute_result"
    }
   ],
   "source": [
    "p_test = clf.predict(d_test)\n",
    "\n",
    "sub = pd.DataFrame()\n",
    "sub['ID'] = id_test\n",
    "sub['y'] = p_test\n",
    "sub.to_csv('xgb.csv', index=False)\n",
    "\n",
    "sub.head()\n"
   ]
  }
 ],
 "metadata": {
  "kernelspec": {
   "display_name": "Python 3",
   "language": "python",
   "name": "python3"
  },
  "language_info": {
   "codemirror_mode": {
    "name": "ipython",
    "version": 3
   },
   "file_extension": ".py",
   "mimetype": "text/x-python",
   "name": "python",
   "nbconvert_exporter": "python",
   "pygments_lexer": "ipython3",
   "version": "3.7.4"
  }
 },
 "nbformat": 4,
 "nbformat_minor": 2
}
